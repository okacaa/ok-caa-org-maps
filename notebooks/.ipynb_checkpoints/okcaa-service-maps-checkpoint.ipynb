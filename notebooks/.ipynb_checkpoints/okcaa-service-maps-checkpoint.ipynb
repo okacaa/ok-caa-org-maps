{
 "cells": [
  {
   "cell_type": "code",
   "execution_count": 1,
   "metadata": {},
   "outputs": [],
   "source": [
    "import sys"
   ]
  },
  {
   "cell_type": "code",
   "execution_count": 2,
   "metadata": {},
   "outputs": [
    {
     "data": {
      "text/plain": [
       "'C:\\\\Users\\\\zcole\\\\my_projects\\\\okcaa_org_maps\\\\env-geo\\\\python.exe'"
      ]
     },
     "execution_count": 2,
     "metadata": {},
     "output_type": "execute_result"
    }
   ],
   "source": [
    "sys.executable"
   ]
  },
  {
   "cell_type": "code",
   "execution_count": 61,
   "metadata": {},
   "outputs": [],
   "source": [
    "import pandas as pd\n",
    "import geopandas as gpd\n",
    "from bokeh.plotting import figure\n",
    "from bokeh.embed import components\n",
    "from bokeh.models import GeoJSONDataSource, ColumnDataSource, LinearColorMapper, BasicTickFormatter\n",
    "from bokeh.io import output_file, show, save\n",
    "from bokeh.palettes import Category20_18\n",
    "import json"
   ]
  },
  {
   "cell_type": "code",
   "execution_count": 4,
   "metadata": {},
   "outputs": [
    {
     "name": "stdout",
     "output_type": "stream",
     "text": [
      "<class 'geopandas.geodataframe.GeoDataFrame'>\n",
      "RangeIndex: 3233 entries, 0 to 3232\n",
      "Data columns (total 18 columns):\n",
      " #   Column    Non-Null Count  Dtype   \n",
      "---  ------    --------------  -----   \n",
      " 0   STATEFP   3233 non-null   object  \n",
      " 1   COUNTYFP  3233 non-null   object  \n",
      " 2   COUNTYNS  3233 non-null   object  \n",
      " 3   GEOID     3233 non-null   object  \n",
      " 4   NAME      3233 non-null   object  \n",
      " 5   NAMELSAD  3233 non-null   object  \n",
      " 6   LSAD      3233 non-null   object  \n",
      " 7   CLASSFP   3233 non-null   object  \n",
      " 8   MTFCC     3233 non-null   object  \n",
      " 9   CSAFP     1231 non-null   object  \n",
      " 10  CBSAFP    1899 non-null   object  \n",
      " 11  METDIVFP  113 non-null    object  \n",
      " 12  FUNCSTAT  3233 non-null   object  \n",
      " 13  ALAND     3233 non-null   int64   \n",
      " 14  AWATER    3233 non-null   int64   \n",
      " 15  INTPTLAT  3233 non-null   object  \n",
      " 16  INTPTLON  3233 non-null   object  \n",
      " 17  geometry  3233 non-null   geometry\n",
      "dtypes: geometry(1), int64(2), object(15)\n",
      "memory usage: 454.8+ KB\n"
     ]
    }
   ],
   "source": [
    "url = \"https://www2.census.gov/geo/tiger/TIGER2018/COUNTY/tl_2018_us_county.zip\"\n",
    "cnty = gpd.read_file(url)\n",
    "\n",
    "cnty.info()"
   ]
  },
  {
   "cell_type": "code",
   "execution_count": 19,
   "metadata": {
    "scrolled": true
   },
   "outputs": [],
   "source": [
    "cnty.loc[:, 'agencies'] = cnty.loc[:, 'NAME'].replace(['Bryan',\n",
    "                                                       'Carter',\n",
    "                                                       'Coal',\n",
    "                                                       'Love',\n",
    "                                                       'Pontotoc'], 'Big 5') \\\n",
    "                    .replace(['Canadian',\n",
    "                              'Oklahoma'], 'CAAOKC') \\\n",
    "                    .replace(['Beckham',\n",
    "                              'Cotton',\n",
    "                              'Jefferson',\n",
    "                              'Kiowa',\n",
    "                              'Roger Mills',\n",
    "                              'Tillman',\n",
    "                              'Washita'], 'CADC') \\\n",
    "                    .replace(['Tulsa'], 'CAP Tulsa') \\\n",
    "                    .replace(['Mayes',\n",
    "                              'Nowata',\n",
    "                              'Rogers',\n",
    "                              'Wagoner',\n",
    "                              'Washington'], 'CARD') \\\n",
    "                    .replace(['Garfield',\n",
    "                              'Grant'], 'CDSA') \\\n",
    "                    .replace(['Cleveland',\n",
    "                              'Lincoln',\n",
    "                              'Logan',\n",
    "                              'Payne',\n",
    "                              'Pottawatomie',\n",
    "                              'Seminole'], 'COCAA') \\\n",
    "                    .replace(['Garvin',\n",
    "                              'McClain',\n",
    "                              'Stephens'], 'Delta') \\\n",
    "                    .replace(['Hughes',\n",
    "                              'McIntosh',\n",
    "                              'Okfuskee',\n",
    "                              'Okmulgee'], 'DFCAF') \\\n",
    "                    .replace(['Comanche'], 'GPIF') \\\n",
    "                    .replace(['Atoka',\n",
    "                              'Johnston',\n",
    "                              'Marshall',\n",
    "                              'Murray'], 'INCA') \\\n",
    "                    .replace(['Haskell',\n",
    "                              'Latimer',\n",
    "                              'Le Flore',\n",
    "                              'Muskogee',\n",
    "                              'Pittsburg',\n",
    "                              'Sequoyah'], 'KI BOIS') \\\n",
    "                    .replace(['Choctaw',\n",
    "                              'McCurtain',\n",
    "                              'Pushmataha'], 'Little Dixie') \\\n",
    "                    .replace(['Adair',\n",
    "                              'Cherokee',\n",
    "                              'Craig',\n",
    "                              'Delaware',\n",
    "                              'Ottawa'], 'NEOCAA') \\\n",
    "                    .replace(['Alfalfa',\n",
    "                              'Beaver',\n",
    "                              'Blaine',\n",
    "                              'Cimarron',\n",
    "                              'Custer',\n",
    "                              'Dewey',\n",
    "                              'Ellis',\n",
    "                              'Harper',\n",
    "                              'Kingfisher',\n",
    "                              'Major',\n",
    "                              'Texas',\n",
    "                              'Woods',\n",
    "                              'Woodward'], 'Opportunities') \\\n",
    "                    .replace(['Greer',\n",
    "                              'Harmon',\n",
    "                              'Jackson'], 'SOCAG') \\\n",
    "                    .replace(['Creek',\n",
    "                              'Kay',\n",
    "                              'Noble',\n",
    "                              'Osage',\n",
    "                              'Pawnee'], 'UCAP') \\\n",
    "                    .replace(['Caddo',\n",
    "                              'Grady'], 'WVCAC')"
   ]
  },
  {
   "cell_type": "code",
   "execution_count": 38,
   "metadata": {},
   "outputs": [],
   "source": [
    "cnty['caa'] = cnty.agencies.replace(['NEOCAA',\n",
    " 'KI BOIS',\n",
    " 'CAAOKC',\n",
    " 'INCA',\n",
    " 'Opportunities',\n",
    " 'COCAA',\n",
    " 'DFCAF',\n",
    " 'CARD',\n",
    " 'WVCAC',\n",
    " 'Big 5',\n",
    " 'SOCAG',\n",
    " 'CADC',\n",
    " 'Little Dixie',\n",
    " 'UCAP',\n",
    " 'GPIF',\n",
    " 'Delta',\n",
    " 'CAP Tulsa',\n",
    " 'CDSA'], [1,2,3,4,5,6,7,8,9,10,11,12,13,14,15,16,17,18])"
   ]
  },
  {
   "cell_type": "code",
   "execution_count": 41,
   "metadata": {},
   "outputs": [],
   "source": [
    "cnty['phone'] = cnty.agencies.replace(['NEOCAA',\n",
    " 'KI BOIS',\n",
    " 'CAAOKC',\n",
    " 'INCA',\n",
    " 'Opportunities',\n",
    " 'COCAA',\n",
    " 'DFCAF',\n",
    " 'CARD',\n",
    " 'WVCAC',\n",
    " 'Big 5',\n",
    " 'SOCAG',\n",
    " 'CADC',\n",
    " 'Little Dixie',\n",
    " 'UCAP',\n",
    " 'GPIF',\n",
    " 'Delta',\n",
    " 'CAP Tulsa',\n",
    " 'CDSA'], ['918-253-4683',\n",
    "           '918-967-3325',\n",
    "           '405-232-0199',\n",
    "           '580-371-2352',\n",
    "           '580-623-7283',\n",
    "           '405-275-6060',\n",
    "           '918-756-2826',\n",
    "           '918-343-2960',\n",
    "           '405-224-5831',\n",
    "           '580-924-5331',\n",
    "           '580-482-5040',\n",
    "           '580-335-5588',\n",
    "           '580-326-3351',\n",
    "           '918-762-3041',\n",
    "           '580-353-2364',\n",
    "           '405-756-1100',\n",
    "           '918-382-3200',\n",
    "           '580-242-6131'])"
   ]
  },
  {
   "cell_type": "code",
   "execution_count": 43,
   "metadata": {
    "scrolled": false
   },
   "outputs": [
    {
     "name": "stdout",
     "output_type": "stream",
     "text": [
      "<class 'geopandas.geodataframe.GeoDataFrame'>\n",
      "Int64Index: 77 entries, 25 to 3225\n",
      "Data columns (total 21 columns):\n",
      " #   Column    Non-Null Count  Dtype   \n",
      "---  ------    --------------  -----   \n",
      " 0   STATEFP   77 non-null     object  \n",
      " 1   COUNTYFP  77 non-null     object  \n",
      " 2   COUNTYNS  77 non-null     object  \n",
      " 3   GEOID     77 non-null     object  \n",
      " 4   NAME      77 non-null     object  \n",
      " 5   NAMELSAD  77 non-null     object  \n",
      " 6   LSAD      77 non-null     object  \n",
      " 7   CLASSFP   77 non-null     object  \n",
      " 8   MTFCC     77 non-null     object  \n",
      " 9   CSAFP     20 non-null     object  \n",
      " 10  CBSAFP    36 non-null     object  \n",
      " 11  METDIVFP  0 non-null      object  \n",
      " 12  FUNCSTAT  77 non-null     object  \n",
      " 13  ALAND     77 non-null     int64   \n",
      " 14  AWATER    77 non-null     int64   \n",
      " 15  INTPTLAT  77 non-null     object  \n",
      " 16  INTPTLON  77 non-null     object  \n",
      " 17  geometry  77 non-null     geometry\n",
      " 18  agencies  77 non-null     object  \n",
      " 19  caa       77 non-null     object  \n",
      " 20  phone     77 non-null     object  \n",
      "dtypes: geometry(1), int64(2), object(18)\n",
      "memory usage: 13.2+ KB\n"
     ]
    }
   ],
   "source": [
    "ok = cnty.loc[cnty['STATEFP'] == \"40\"]\n",
    "\n",
    "ok.info()"
   ]
  },
  {
   "cell_type": "code",
   "execution_count": 46,
   "metadata": {},
   "outputs": [],
   "source": [
    "df = ok[['geometry','agencies','NAME','caa','phone']]"
   ]
  },
  {
   "cell_type": "code",
   "execution_count": 47,
   "metadata": {},
   "outputs": [],
   "source": [
    "#Read data to json.\n",
    "df_json = json.loads(df.to_json())\n",
    "\n",
    "#Convert to string-like object.\n",
    "json_data = json.dumps(df_json)"
   ]
  },
  {
   "cell_type": "code",
   "execution_count": 51,
   "metadata": {},
   "outputs": [],
   "source": [
    "#Input GeoJSON source that contains features for plotting.\n",
    "geo_source = GeoJSONDataSource(geojson = json_data)"
   ]
  },
  {
   "cell_type": "code",
   "execution_count": 67,
   "metadata": {},
   "outputs": [],
   "source": [
    "TOOLS = \"pan\",\"wheel_zoom\",\"reset\",\"hover\"\n",
    "\n",
    "TOOLTIPS = [(\"County\",\"@NAME\"),\n",
    "            (\"Agency\",\"@agencies\"),\n",
    "            (\"Phone\",\"@phone\")]\n",
    "\n",
    "color_mapper = LinearColorMapper(palette=Category20_18)\n",
    "\n",
    "#Error: \"Models must be owned by only a single document\" aka Cannot share geo_sources?\n",
    "#Must re-run geo_source or reset document on subsequent runs.\n",
    "geo_source = GeoJSONDataSource(geojson = json_data)\n",
    "\n",
    "p = figure(title=\"Community Action Agency Service Areas\",\n",
    "           tools=TOOLS,\n",
    "           tooltips=TOOLTIPS,\n",
    "           height=600,\n",
    "           width=1200,\n",
    "           x_axis_location=None,\n",
    "           y_axis_location=None,\n",
    "           lod_threshold=10)\n",
    "\n",
    "p.grid.grid_line_color = None\n",
    "p.hover.point_policy = \"follow_mouse\"\n",
    "\n",
    "p.patches('xs',\n",
    "          'ys',\n",
    "          source=geo_source,\n",
    "          fill_color={'field':'caa',\n",
    "                      'transform':color_mapper},\n",
    "          fill_alpha=0.7,\n",
    "          line_color=\"white\",\n",
    "          line_width=0.5)\n",
    "\n",
    "#show(p)\n",
    "\n",
    "save(p)\n",
    "\n",
    "output_file(\"C:/Users/zcole/my_projects/okcaa_org_maps/outputs/ok-caa-service-areas.html\")"
   ]
  }
 ],
 "metadata": {
  "kernelspec": {
   "display_name": "Python 3",
   "language": "python",
   "name": "python3"
  },
  "language_info": {
   "codemirror_mode": {
    "name": "ipython",
    "version": 3
   },
   "file_extension": ".py",
   "mimetype": "text/x-python",
   "name": "python",
   "nbconvert_exporter": "python",
   "pygments_lexer": "ipython3",
   "version": "3.7.6"
  }
 },
 "nbformat": 4,
 "nbformat_minor": 4
}
